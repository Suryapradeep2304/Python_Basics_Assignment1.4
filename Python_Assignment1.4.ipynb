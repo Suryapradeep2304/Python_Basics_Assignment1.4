{
 "cells": [
  {
   "cell_type": "code",
   "execution_count": 2,
   "metadata": {},
   "outputs": [
    {
     "name": "stdout",
     "output_type": "stream",
     "text": [
      "Volume Of The Sphere =  904.7786842338603\n"
     ]
    }
   ],
   "source": [
    "pi = 3.1415926535897931\n",
    "d = 12\n",
    "v = (1.0/6.0)*pi*d**3\n",
    "\n",
    "print(\"Volume Of The Sphere = \",v)"
   ]
  }
 ],
 "metadata": {
  "kernelspec": {
   "display_name": "Python 3",
   "language": "python",
   "name": "python3"
  },
  "language_info": {
   "codemirror_mode": {
    "name": "ipython",
    "version": 3
   },
   "file_extension": ".py",
   "mimetype": "text/x-python",
   "name": "python",
   "nbconvert_exporter": "python",
   "pygments_lexer": "ipython3",
   "version": "3.6.5"
  }
 },
 "nbformat": 4,
 "nbformat_minor": 2
}
